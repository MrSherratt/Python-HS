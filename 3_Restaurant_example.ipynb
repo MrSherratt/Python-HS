{
  "nbformat": 4,
  "nbformat_minor": 0,
  "metadata": {
    "colab": {
      "provenance": [],
      "toc_visible": true,
      "authorship_tag": "ABX9TyOwKnyfCzJ8mfIT7cHYANcE",
      "include_colab_link": true
    },
    "kernelspec": {
      "name": "python3",
      "display_name": "Python 3"
    },
    "language_info": {
      "name": "python"
    }
  },
  "cells": [
    {
      "cell_type": "markdown",
      "metadata": {
        "id": "view-in-github",
        "colab_type": "text"
      },
      "source": [
        "<a href=\"https://colab.research.google.com/github/MrSherratt/Python-Programs/blob/main/3_Restaurant_example.ipynb\" target=\"_parent\"><img src=\"https://colab.research.google.com/assets/colab-badge.svg\" alt=\"Open In Colab\"/></a>"
      ]
    },
    {
      "cell_type": "code",
      "source": [
        "# basic if statement\n",
        "\n",
        "number = int(input(\"enter a number\"))\n",
        "if number == 5:\n",
        "  print(\"you wrote 5!\")\n",
        "else:\n",
        "  print(\"you must have picked something other than 5!\")"
      ],
      "metadata": {
        "colab": {
          "base_uri": "https://localhost:8080/"
        },
        "id": "75XhPOwJMyDi",
        "outputId": "ba3eed56-febc-40ea-db47-18451105805b"
      },
      "execution_count": 3,
      "outputs": [
        {
          "output_type": "stream",
          "name": "stdout",
          "text": [
            "enter a number6\n",
            "you must have picked something other than 5!\n"
          ]
        }
      ]
    },
    {
      "cell_type": "markdown",
      "source": [
        "# This is my basic example"
      ],
      "metadata": {
        "id": "Y1vtS2sjQ7sW"
      }
    },
    {
      "cell_type": "code",
      "execution_count": null,
      "metadata": {
        "id": "cbAxBKFW5obX"
      },
      "outputs": [],
      "source": [
        "\n",
        "# welcome the user and ask for an input\n",
        "print(\"welcome to Sherratt's Restaurant\")\n",
        "\n",
        "# user input variable\n",
        "foodChoice = str(input(\"Would you like Italian or English food?\"))\n",
        "\n",
        "# if statement\n",
        "if foodChoice == \"Italian\" or foodChoice == \"italian\":\n",
        "    italianChoice1 = str(input(\"pasta, pizza or ice cream?\"))\n",
        "    # nested if statement\n",
        "    if italianChoice1 == \"pasta\":\n",
        "      print(italianChoice1 + \" good choice!\")\n",
        "    elif italianChoice1 == \"pizza\":\n",
        "      print(italianChoice1 + \" sounds great!\")\n",
        "if foodChoice == \"English\" or foodChoice == \"english\":\n",
        "    print(\"english it is\")\n",
        "    englishChoice1 = str(input(\"sausages, fish and chips or pie?\"))\n"
      ]
    },
    {
      "cell_type": "markdown",
      "source": [
        "# Put your own program below"
      ],
      "metadata": {
        "id": "mPB8mZbmxs4r"
      }
    },
    {
      "cell_type": "code",
      "source": [
        "# space for your program, copy and paste from Trinket"
      ],
      "metadata": {
        "id": "-9GbGM4txvfn"
      },
      "execution_count": null,
      "outputs": []
    }
  ]
}