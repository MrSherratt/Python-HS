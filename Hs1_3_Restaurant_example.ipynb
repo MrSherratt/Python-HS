{
  "cells": [
    {
      "cell_type": "markdown",
      "metadata": {
        "id": "view-in-github",
        "colab_type": "text"
      },
      "source": [
        "<a href=\"https://colab.research.google.com/github/MrSherratt/Python-HS/blob/main/Hs1_3_Restaurant_example.ipynb\" target=\"_parent\"><img src=\"https://colab.research.google.com/assets/colab-badge.svg\" alt=\"Open In Colab\"/></a>"
      ]
    },
    {
      "cell_type": "code",
      "execution_count": null,
      "metadata": {
        "id": "75XhPOwJMyDi",
        "colab": {
          "base_uri": "https://localhost:8080/"
        },
        "outputId": "40395aa3-c157-48fa-de9a-5807a04948e1"
      },
      "outputs": [
        {
          "output_type": "stream",
          "name": "stdout",
          "text": [
            "Do you like pizza or pasta?pasta\n",
            "yummy! Pasta!\n"
          ]
        }
      ],
      "source": [
        "# basic if statement\n",
        "\n",
        "question1 = str(input(\"Do you like pizza or pasta?\"))\n",
        "if question1 == \"pizza\":\n",
        "  print(\"I like pizza, too!\")\n",
        "elif question1 == \"pasta\":\n",
        "  print(\"yummy! Pasta!\")"
      ]
    },
    {
      "cell_type": "markdown",
      "metadata": {
        "id": "Y1vtS2sjQ7sW"
      },
      "source": [
        "# This is my basic example"
      ]
    },
    {
      "cell_type": "code",
      "execution_count": null,
      "metadata": {
        "colab": {
          "base_uri": "https://localhost:8080/"
        },
        "id": "cbAxBKFW5obX",
        "outputId": "fd266bfe-2980-4094-8e60-6aad2aac8815"
      },
      "outputs": [
        {
          "output_type": "stream",
          "name": "stdout",
          "text": [
            "welcome to Sherratt's Restaurant\n",
            "Would you like Italian or English food?italian\n",
            "pasta, pizza or ice cream?pasta\n",
            "pasta good choice!\n"
          ]
        }
      ],
      "source": [
        "\n",
        "# welcome the user and ask for an input\n",
        "print(\"welcome to Sherratt's Restaurant\")\n",
        "\n",
        "\n",
        "# user input variable\n",
        "foodChoice = str(input(\"Would you like Italian or English food?\"))\n",
        "\n",
        "# if statement\n",
        "if foodChoice == \"Italian\" or foodChoice == \"italian\":\n",
        "    italianChoice1 = str(input(\"pasta, pizza or ice cream?\"))\n",
        "    # nested if statement\n",
        "    if italianChoice1 == \"pasta\":\n",
        "      print(italianChoice1 + \" good choice!\")\n",
        "    elif italianChoice1 == \"pizza\":\n",
        "      print(italianChoice1 + \" sounds great!\")\n",
        "if foodChoice == \"English\" or foodChoice == \"english\":\n",
        "    print(\"english it is\")\n",
        "    englishChoice1 = str(input(\"sausages, fish and chips or pie?\"))\n"
      ]
    },
    {
      "cell_type": "markdown",
      "metadata": {
        "id": "mPB8mZbmxs4r"
      },
      "source": [
        "# Put your own program below"
      ]
    },
    {
      "cell_type": "code",
      "execution_count": null,
      "metadata": {
        "id": "-9GbGM4txvfn",
        "colab": {
          "base_uri": "https://localhost:8080/",
          "height": 140
        },
        "outputId": "f19b2fda-044c-48ee-82bb-7bc519fb32a5"
      },
      "outputs": [
        {
          "output_type": "error",
          "ename": "SyntaxError",
          "evalue": "ignored",
          "traceback": [
            "\u001b[0;36m  File \u001b[0;32m\"<ipython-input-11-77a36fede843>\"\u001b[0;36m, line \u001b[0;32m5\u001b[0m\n\u001b[0;31m    if question1 == \"doctor\"\u001b[0m\n\u001b[0m                            ^\u001b[0m\n\u001b[0;31mSyntaxError\u001b[0m\u001b[0;31m:\u001b[0m expected ':'\n"
          ]
        }
      ],
      "source": [
        "# space for your program, copy and paste from Trinket\n",
        "\n",
        "\n"
      ]
    }
  ],
  "metadata": {
    "colab": {
      "provenance": [],
      "toc_visible": true,
      "authorship_tag": "ABX9TyNZa1OovijC0Mtj//6zWxaS",
      "include_colab_link": true
    },
    "kernelspec": {
      "display_name": "Python 3",
      "name": "python3"
    },
    "language_info": {
      "name": "python"
    }
  },
  "nbformat": 4,
  "nbformat_minor": 0
}